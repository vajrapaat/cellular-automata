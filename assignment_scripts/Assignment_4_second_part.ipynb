{
  "nbformat": 4,
  "nbformat_minor": 0,
  "metadata": {
    "colab": {
      "provenance": []
    },
    "kernelspec": {
      "name": "python3",
      "display_name": "Python 3"
    },
    "language_info": {
      "name": "python"
    }
  },
  "cells": [
    {
      "cell_type": "markdown",
      "source": [
        "# Defining the functions"
      ],
      "metadata": {
        "id": "SZ92-vXfOurQ"
      }
    },
    {
      "cell_type": "code",
      "execution_count": 46,
      "metadata": {
        "id": "y7f-dWByLNO6"
      },
      "outputs": [],
      "source": [
        "import numpy as np\n",
        "from itertools import product\n",
        "\n",
        "def get_rules(rule_number):\n",
        "  x = np.array([int(b) for b in np.binary_repr(rule_number, width=8)], dtype= np.int8)\n",
        "  return x\n",
        "\n",
        "def evolve(config, rule, boundary=\"periodic\"):\n",
        "  config_len = len(config)\n",
        "  next_config = np.zeros_like(config)\n",
        "\n",
        "  for i in range(config_len):\n",
        "    left = config[i - 1] if i> 0 else (config[-1] if boundary == \"periodic\" else 0)\n",
        "    right = config[i + 1] if i < config_len-1 else (config[0] if boundary == \"periodic\" else 0)\n",
        "    neighbourhood = np.array([left, config[i], right])\n",
        "    vector = np.array([4,2,1])\n",
        "    neighbourhood_decimal = np.sum(vector*neighbourhood).astype(np.int8)\n",
        "    next_config[i] = rule[7-neighbourhood_decimal]\n",
        "\n",
        "  return next_config\n",
        "\n",
        "def all_cycle(n, next_func):\n",
        "    total_states = 2 ** n\n",
        "    visited = [False] * total_states\n",
        "    cycles = []\n",
        "\n",
        "    for i in range(total_states):\n",
        "        if visited[i]:\n",
        "            continue\n",
        "        path = []\n",
        "        index = dict()\n",
        "        current = i\n",
        "        while True:\n",
        "            if visited[current]:\n",
        "                for state in path:\n",
        "                    visited[state] = True\n",
        "                break\n",
        "            if current in index:\n",
        "                cycle_start = index[current]\n",
        "                cycle = path[cycle_start:]\n",
        "                cycles.append(cycle)\n",
        "                for state in path:\n",
        "                    visited[state] = True\n",
        "                break\n",
        "            index[current] = len(path)\n",
        "            path.append(current)\n",
        "            current = next_func(current)\n",
        "\n",
        "    return cycles\n",
        "\n",
        "\n",
        "def next_func(state_int):\n",
        "  config = intarr(state_int, n)\n",
        "  next_config = evolve(config, rule, boundary)\n",
        "  return arrint(next_config)\n",
        "\n",
        "def intarr(state_int, n):\n",
        "  x = np.array([(state_int >> i) & 1 for i in range(n)], dtype=np.int8)\n",
        "  return x\n",
        "\n",
        "def arrint(arr):\n",
        "  x = sum((bit << i) for i, bit in enumerate(arr))\n",
        "  return x"
      ]
    },
    {
      "cell_type": "markdown",
      "source": [
        "# For a finite null boundary ECA of lattice size 4, under rule 90"
      ],
      "metadata": {
        "id": "N-CxFXFAXE5F"
      }
    },
    {
      "cell_type": "code",
      "source": [
        "n = 4\n",
        "rule_number = 90\n",
        "boundary = 'null'\n",
        "\n",
        "rule = get_rules(rule_number)\n",
        "cycles = all_cycle(n, next_func)\n",
        "\n",
        "print(f\"Number of Cycles: {len(cycles)}\")\n",
        "for i, cycle in enumerate(cycles, 1):\n",
        "    print(f\"Length of cycle {i}: {len(cycle)}\")"
      ],
      "metadata": {
        "colab": {
          "base_uri": "https://localhost:8080/"
        },
        "id": "NlFy-1fhWrnC",
        "outputId": "ea196eb9-661b-4173-c190-74e4b1649821"
      },
      "execution_count": 47,
      "outputs": [
        {
          "output_type": "stream",
          "name": "stdout",
          "text": [
            "Number of Cycles: 4\n",
            "Length of cycle 1: 1\n",
            "Length of cycle 2: 6\n",
            "Length of cycle 3: 6\n",
            "Length of cycle 4: 3\n"
          ]
        }
      ]
    }
  ]
}